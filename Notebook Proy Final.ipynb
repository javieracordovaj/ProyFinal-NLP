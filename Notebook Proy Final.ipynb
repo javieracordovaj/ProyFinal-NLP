{
 "cells": [
  {
   "cell_type": "code",
   "execution_count": 1,
   "id": "259c5e6a-e2f7-4ded-b31f-bdff62b4b17b",
   "metadata": {},
   "outputs": [],
   "source": [
    "import warnings\n",
    "warnings.filterwarnings(\"ignore\")"
   ]
  },
  {
   "cell_type": "code",
   "execution_count": 2,
   "id": "6db3b3c5-9116-4228-a0f2-fcec61e182c4",
   "metadata": {},
   "outputs": [],
   "source": [
    "import pandas as pd\n",
    "import numpy as np\n",
    "\n",
    "import tweepy\n",
    "import configparser"
   ]
  },
  {
   "cell_type": "code",
   "execution_count": 3,
   "id": "b29aa4f2-2379-4283-8cc0-c129da652a04",
   "metadata": {},
   "outputs": [
    {
     "name": "stdout",
     "output_type": "stream",
     "text": [
      "Hashtah a buscar:\n"
     ]
    },
    {
     "name": "stdin",
     "output_type": "stream",
     "text": [
      " galaxys22\n"
     ]
    },
    {
     "name": "stdout",
     "output_type": "stream",
     "text": [
      "Fecha inicio (yyyy-mm--dd):\n"
     ]
    },
    {
     "name": "stdin",
     "output_type": "stream",
     "text": [
      " 2022-09-01\n"
     ]
    },
    {
     "name": "stdout",
     "output_type": "stream",
     "text": [
      "Fecha término (yyyy-mm--dd):\n"
     ]
    },
    {
     "name": "stdin",
     "output_type": "stream",
     "text": [
      " 2022-09-05\n"
     ]
    },
    {
     "name": "stderr",
     "output_type": "stream",
     "text": [
      "Rate limit reached. Sleeping for: 100\n"
     ]
    },
    {
     "name": "stdout",
     "output_type": "stream",
     "text": [
      "Extracción finalizada.\n"
     ]
    }
   ],
   "source": [
    "def scrape(words, date_since, date_end):\n",
    "    db = pd.DataFrame(columns=['creation',\n",
    "                               'username',\n",
    "                               'description',\n",
    "                               'location',\n",
    "                               'following',\n",
    "                               'followers',\n",
    "                               'totaltweets',\n",
    "                               'retweetcount',\n",
    "                               'text',\n",
    "                               'hashtags'])\n",
    "    \n",
    "    tweets = tweepy.Cursor(api.search_tweets,\n",
    "                           words, lang=\"en\",\n",
    "                           since_id=date_since,\n",
    "                           until=date_end,\n",
    "                           tweet_mode='extended').items()\n",
    "    \n",
    "    list_tweets = [tweet for tweet in tweets]\n",
    "    \n",
    "    i = 1\n",
    "    \n",
    "    for tweet in list_tweets:\n",
    "        creation = tweet.created_at\n",
    "        username = tweet.user.screen_name\n",
    "        description = tweet.user.description\n",
    "        location = tweet.user.location\n",
    "        following = tweet.user.friends_count\n",
    "        followers = tweet.user.followers_count\n",
    "        totaltweets = tweet.user.statuses_count\n",
    "        retweetcount = tweet.retweet_count\n",
    "        hashtags = tweet.entities['hashtags']\n",
    "        \n",
    "        try:\n",
    "            text = tweet.retweeted_status.full_text\n",
    "        except AttributeError:\n",
    "            text = tweet.full_text\n",
    "        hashtext = list()\n",
    "        for j in range(0, len(hashtags)):\n",
    "            hashtext.append(hashtags[j]['text'])\n",
    "            \n",
    "        ith_tweet = [creation, username, description,\n",
    "                     location, following,\n",
    "                     followers, totaltweets,\n",
    "                     retweetcount, text, hashtext]\n",
    "        db.loc[len(db)] = ith_tweet\n",
    "        \n",
    "        printtweetdata(i, ith_tweet)\n",
    "        i = i+1\n",
    "    filename = 'scraping.csv'\n",
    "    db.to_csv(filename)\n",
    "    \n",
    "if __name__ == '__main__':\n",
    "    consumer_key = \" \"\n",
    "    consumer_secret = \" \"\n",
    "    access_key = \" \"\n",
    "    access_secret = \" \"\n",
    "    \n",
    "    auth = tweepy.OAuthHandler(consumer_key, consumer_secret)\n",
    "    auth.set_access_token(access_key, access_secret)\n",
    "    api = tweepy.API(auth, wait_on_rate_limit = True)\n",
    "    \n",
    "    print(\"Hashtah a buscar:\")\n",
    "    words = input()\n",
    "    print(\"Fecha inicio (yyyy-mm--dd):\")\n",
    "    date_since = input()\n",
    "    print(\"Fecha término (yyyy-mm--dd):\")\n",
    "    date_end = input()\n",
    "    \n",
    "    scrape(words, date_since, date_end)\n",
    "    print('Extracción finalizada.')"
   ]
  },
  {
   "cell_type": "code",
   "execution_count": 78,
   "id": "50547bdb-fc12-42b9-93bc-ebf6ff2af2e0",
   "metadata": {},
   "outputs": [],
   "source": [
    "tt = pd.read_csv('iphone14')"
   ]
  },
  {
   "cell_type": "code",
   "execution_count": 79,
   "id": "7ce1c8d4-8543-4fb6-aaa2-b151f604483b",
   "metadata": {},
   "outputs": [
    {
     "data": {
      "text/html": [
       "<div>\n",
       "<style scoped>\n",
       "    .dataframe tbody tr th:only-of-type {\n",
       "        vertical-align: middle;\n",
       "    }\n",
       "\n",
       "    .dataframe tbody tr th {\n",
       "        vertical-align: top;\n",
       "    }\n",
       "\n",
       "    .dataframe thead th {\n",
       "        text-align: right;\n",
       "    }\n",
       "</style>\n",
       "<table border=\"1\" class=\"dataframe\">\n",
       "  <thead>\n",
       "    <tr style=\"text-align: right;\">\n",
       "      <th></th>\n",
       "      <th>Unnamed: 0</th>\n",
       "      <th>creation</th>\n",
       "      <th>username</th>\n",
       "      <th>description</th>\n",
       "      <th>location</th>\n",
       "      <th>following</th>\n",
       "      <th>followers</th>\n",
       "      <th>totaltweets</th>\n",
       "      <th>retweetcount</th>\n",
       "      <th>text</th>\n",
       "      <th>hashtags</th>\n",
       "    </tr>\n",
       "  </thead>\n",
       "  <tbody>\n",
       "    <tr>\n",
       "      <th>0</th>\n",
       "      <td>0</td>\n",
       "      <td>2022-09-04 23:56:48+00:00</td>\n",
       "      <td>eversobling</td>\n",
       "      <td>Bling Swarovski Crystal Cases designed for iPh...</td>\n",
       "      <td>NaN</td>\n",
       "      <td>1255</td>\n",
       "      <td>601</td>\n",
       "      <td>8454</td>\n",
       "      <td>0</td>\n",
       "      <td>Scary Skull 3D Bling Swarovski Crystal iPhone ...</td>\n",
       "      <td>['iPhone14', 'iPhone14case', 'blingbling']</td>\n",
       "    </tr>\n",
       "    <tr>\n",
       "      <th>1</th>\n",
       "      <td>1</td>\n",
       "      <td>2022-09-04 23:53:42+00:00</td>\n",
       "      <td>twood3</td>\n",
       "      <td>Technology and sports</td>\n",
       "      <td>NaN</td>\n",
       "      <td>321</td>\n",
       "      <td>1605</td>\n",
       "      <td>730645</td>\n",
       "      <td>24</td>\n",
       "      <td>Midnight Blue \\n#apple #iphone14 https://t.co/...</td>\n",
       "      <td>['apple', 'iphone14']</td>\n",
       "    </tr>\n",
       "    <tr>\n",
       "      <th>2</th>\n",
       "      <td>2</td>\n",
       "      <td>2022-09-04 23:51:15+00:00</td>\n",
       "      <td>MichaelsTecTalk</td>\n",
       "      <td>Tech lover and all round geek! Honest Tech Rev...</td>\n",
       "      <td>Northern Ireland</td>\n",
       "      <td>688</td>\n",
       "      <td>483</td>\n",
       "      <td>3231</td>\n",
       "      <td>0</td>\n",
       "      <td>Part of me is looking forward to the #AppleEve...</td>\n",
       "      <td>['AppleEvent', 'iPhone14', 'AppleEvent']</td>\n",
       "    </tr>\n",
       "  </tbody>\n",
       "</table>\n",
       "</div>"
      ],
      "text/plain": [
       "   Unnamed: 0                   creation         username  \\\n",
       "0           0  2022-09-04 23:56:48+00:00      eversobling   \n",
       "1           1  2022-09-04 23:53:42+00:00           twood3   \n",
       "2           2  2022-09-04 23:51:15+00:00  MichaelsTecTalk   \n",
       "\n",
       "                                         description          location  \\\n",
       "0  Bling Swarovski Crystal Cases designed for iPh...               NaN   \n",
       "1                              Technology and sports               NaN   \n",
       "2  Tech lover and all round geek! Honest Tech Rev...  Northern Ireland   \n",
       "\n",
       "   following  followers  totaltweets  retweetcount  \\\n",
       "0       1255        601         8454             0   \n",
       "1        321       1605       730645            24   \n",
       "2        688        483         3231             0   \n",
       "\n",
       "                                                text  \\\n",
       "0  Scary Skull 3D Bling Swarovski Crystal iPhone ...   \n",
       "1  Midnight Blue \\n#apple #iphone14 https://t.co/...   \n",
       "2  Part of me is looking forward to the #AppleEve...   \n",
       "\n",
       "                                     hashtags  \n",
       "0  ['iPhone14', 'iPhone14case', 'blingbling']  \n",
       "1                       ['apple', 'iphone14']  \n",
       "2    ['AppleEvent', 'iPhone14', 'AppleEvent']  "
      ]
     },
     "execution_count": 79,
     "metadata": {},
     "output_type": "execute_result"
    }
   ],
   "source": [
    "tt.head(3)"
   ]
  },
  {
   "cell_type": "code",
   "execution_count": 80,
   "id": "eced6c48-d4f6-43d3-92d7-bd74d221db4d",
   "metadata": {},
   "outputs": [],
   "source": [
    "tt.drop(columns = 'Unnamed: 0', inplace = True)\n",
    "tt['date'] = tt.creation.str.split(\" \", n=1).str[0]"
   ]
  },
  {
   "cell_type": "code",
   "execution_count": 81,
   "id": "639fb7cb-4f64-4036-b545-ae90fc4610bb",
   "metadata": {},
   "outputs": [
    {
     "data": {
      "text/plain": [
       "(94741, 11)"
      ]
     },
     "execution_count": 81,
     "metadata": {},
     "output_type": "execute_result"
    }
   ],
   "source": [
    "tt.shape"
   ]
  },
  {
   "cell_type": "code",
   "execution_count": 82,
   "id": "26684f72-c16c-4e17-864c-3fcae010679d",
   "metadata": {},
   "outputs": [
    {
     "data": {
      "text/plain": [
       "location        0.35\n",
       "description     0.14\n",
       "creation        0.00\n",
       "username        0.00\n",
       "following       0.00\n",
       "followers       0.00\n",
       "totaltweets     0.00\n",
       "retweetcount    0.00\n",
       "text            0.00\n",
       "hashtags        0.00\n",
       "date            0.00\n",
       "dtype: float64"
      ]
     },
     "execution_count": 82,
     "metadata": {},
     "output_type": "execute_result"
    }
   ],
   "source": [
    "round((tt.isnull().sum()/tt.shape[0]).sort_values(ascending = False), 2)"
   ]
  },
  {
   "cell_type": "code",
   "execution_count": 83,
   "id": "50deb022-fce6-4b07-812e-e457daede798",
   "metadata": {},
   "outputs": [
    {
     "data": {
      "text/plain": [
       "0        Scary Skull 3D Bling Swarovski Crystal iPhone ...\n",
       "1        Midnight Blue \\n#apple #iphone14 https://t.co/...\n",
       "2        Part of me is looking forward to the #AppleEve...\n",
       "3        iPhone 14 Pro Early Trailer @hassantheshah \\nF...\n",
       "4        iPhone 14 Pro Early Trailer @hassantheshah \\nF...\n",
       "                               ...                        \n",
       "94736    #AppleEvent #iPhone \\n\\nthe great mystery that...\n",
       "94737    I'm Super Excited for the iPhone 14 Pro Max .....\n",
       "94738    Apple leaked this 😁😁😁 #iPhone14 https://t.co/0...\n",
       "94739    Really interested to see what Apple has to off...\n",
       "94740    3 days to go. Who’s excited? 🚨🚨#AppleEvent #iP...\n",
       "Name: text, Length: 94741, dtype: object"
      ]
     },
     "execution_count": 83,
     "metadata": {},
     "output_type": "execute_result"
    }
   ],
   "source": [
    "tt.text"
   ]
  },
  {
   "cell_type": "code",
   "execution_count": 84,
   "id": "b444721e-5750-46f0-9c8a-d167194c5aea",
   "metadata": {},
   "outputs": [],
   "source": [
    "def saltos_linea(texto):\n",
    "    return texto.replace(\"\\n\",\"\")\n",
    "def hashtags(texto):\n",
    "    return texto.replace(\"#\", \"\")\n",
    "\n",
    "\n",
    "def usuario_url(texto):\n",
    "    nuevo_texto = []\n",
    "    for car in texto.split(\" \"):\n",
    "        car = '@user' if car.startswith('@') and len(car) > 1 else car\n",
    "        car = 'http' if car.startswith('http') else car\n",
    "        nuevo_texto.append(car)\n",
    "    return \" \".join(nuevo_texto)"
   ]
  },
  {
   "cell_type": "code",
   "execution_count": 85,
   "id": "e91805f4-2c6d-47e7-a014-6c21bee6a367",
   "metadata": {},
   "outputs": [],
   "source": [
    "tt['text_clean'] = tt['text'].apply(hashtags)"
   ]
  },
  {
   "cell_type": "code",
   "execution_count": 86,
   "id": "cdef686d-42a2-469b-8068-b4cc1115a9b1",
   "metadata": {},
   "outputs": [],
   "source": [
    "tt['text_clean'] = tt['text_clean'].apply(saltos_linea)"
   ]
  },
  {
   "cell_type": "code",
   "execution_count": 87,
   "id": "c99b843f-1efe-4148-ba5a-77b0840954e4",
   "metadata": {},
   "outputs": [],
   "source": [
    "tt['text_clean'] = tt['text_clean'].apply(usuario_url)"
   ]
  },
  {
   "cell_type": "code",
   "execution_count": 88,
   "id": "030914e4-eba6-48d0-8319-eae389e70226",
   "metadata": {},
   "outputs": [
    {
     "data": {
      "text/plain": [
       "0        Scary Skull 3D Bling Swarovski Crystal iPhone ...\n",
       "1                        Midnight Blue apple iphone14 http\n",
       "2        Part of me is looking forward to the AppleEven...\n",
       "3        iPhone 14 Pro Early Trailer @user Feel free to...\n",
       "4        iPhone 14 Pro Early Trailer @user Feel free to...\n",
       "                               ...                        \n",
       "94736    AppleEvent iPhone the great mystery that will ...\n",
       "94737    I'm Super Excited for the iPhone 14 Pro Max .....\n",
       "94738                  Apple leaked this 😁😁😁 iPhone14 http\n",
       "94739    Really interested to see what Apple has to off...\n",
       "94740    3 days to go. Who’s excited? 🚨🚨AppleEvent iPho...\n",
       "Name: text_clean, Length: 94741, dtype: object"
      ]
     },
     "execution_count": 88,
     "metadata": {},
     "output_type": "execute_result"
    }
   ],
   "source": [
    "tt.text_clean"
   ]
  },
  {
   "cell_type": "code",
   "execution_count": 89,
   "id": "2d6f1c86-8b49-400c-896b-1250339052e9",
   "metadata": {
    "tags": []
   },
   "outputs": [],
   "source": [
    "import re\n",
    "import emoji\n",
    "import string\n",
    "\n",
    "# Limpio los tweets de carácteres extraños:\n",
    "def clean(text):\n",
    "    emoji_pattern = re.compile(\"[\"\n",
    "                               u\"\\U0001F600-\\U0001F64F\"\n",
    "                               u\"\\U0001F300-\\U0001F5FF\"\n",
    "                               u\"\\U0001F680-\\U0001F6FF\"\n",
    "                               u\"\\U0001F1E0-\\U0001F1FF\"\n",
    "                               u\"\\U00002500-\\U00002BEF\"\n",
    "                               u\"\\U00002702-\\U000027B0\"\n",
    "                               u\"\\U00002702-\\U000027B0\"\n",
    "                               u\"\\U000024C2-\\U0001F251\"\n",
    "                               u\"\\U0001f926-\\U0001f937\"\n",
    "                               u\"\\U00010000-\\U0010ffff\"\n",
    "                               u\"\\u2640-\\u2642\"\n",
    "                               u\"\\u2600-\\u2B55\"\n",
    "                               u\"\\u200d\"\n",
    "                               u\"\\u23cf\"\n",
    "                               u\"\\u23e9\"\n",
    "                               u\"\\u231a\"\n",
    "                               u\"\\ufe0f\"\n",
    "                               u\"\\u3030\"\n",
    "                               \"]+\", flags=re.UNICODE)\n",
    "    text_clean = emoji_pattern.sub(r'', text)    \n",
    "    text_clean2 = text_clean.lower()      \n",
    "    text_clean3 = text_clean2.rstrip()    \n",
    "    text_clean4 = text_clean3.lstrip()  \n",
    "    return text_clean4"
   ]
  },
  {
   "cell_type": "code",
   "execution_count": 90,
   "id": "cde07b48-753d-45bd-b2ca-464250cf2530",
   "metadata": {},
   "outputs": [],
   "source": [
    "tt['text_clean'] = tt['text_clean'].apply(clean)"
   ]
  },
  {
   "cell_type": "code",
   "execution_count": 91,
   "id": "50359642-5165-4ca8-af32-1684e2d43c36",
   "metadata": {},
   "outputs": [
    {
     "data": {
      "text/plain": [
       "(17423, 12)"
      ]
     },
     "execution_count": 91,
     "metadata": {},
     "output_type": "execute_result"
    }
   ],
   "source": [
    "# Me aseguro de que no hayan duplicados:\n",
    "tt.drop_duplicates(subset=[\"text_clean\"], keep='first', inplace = True)\n",
    "tt.shape"
   ]
  },
  {
   "cell_type": "code",
   "execution_count": 270,
   "id": "764f4640-e988-49c5-8c8d-100a99d66122",
   "metadata": {},
   "outputs": [],
   "source": [
    "from transformers import AutoTokenizer, AutoModelForSequenceClassification\n",
    "from scipy.special import softmax\n",
    "\n",
    "# Etiqueto datos con modelo ro-bert-a:\n",
    "\n",
    "roberta = \"cardiffnlp/twitter-roberta-base-sentiment\"\n",
    "\n",
    "model = AutoModelForSequenceClassification.from_pretrained(roberta)\n",
    "tokenizer = AutoTokenizer.from_pretrained(roberta)\n",
    "\n",
    "# Defino mi función para análisis de sentimiento que incluye tokenización como paso previo:\n",
    "def tweet_proc(text):\n",
    "    encoded_tweet = tokenizer(text, return_tensors='pt')\n",
    "    output = model(**encoded_tweet)\n",
    "    scores = output[0][0].detach().numpy()\n",
    "    scores = softmax(scores)\n",
    "    return scores"
   ]
  },
  {
   "cell_type": "code",
   "execution_count": 93,
   "id": "397d80c9-f9f3-4813-9453-4652d0571cd9",
   "metadata": {},
   "outputs": [],
   "source": [
    "# Debo hacer particiones para que no quede tan pesado al ejecutar:\n",
    "tt_part1 = tt[:2000]\n",
    "tt_part1['sent_score'] = tt_part1['text_clean'].apply(tweet_proc)"
   ]
  },
  {
   "cell_type": "code",
   "execution_count": 94,
   "id": "76da293e-96da-4352-89ac-0a8513a71dc8",
   "metadata": {},
   "outputs": [],
   "source": [
    "tt_part2 = tt[2000:4000]\n",
    "tt_part2['sent_score'] = tt_part2['text_clean'].apply(tweet_proc)"
   ]
  },
  {
   "cell_type": "code",
   "execution_count": 95,
   "id": "43ed57d5-d633-4c3e-afc2-6511d0b56ac1",
   "metadata": {},
   "outputs": [],
   "source": [
    "tt_part3 = tt[4000:6000]\n",
    "tt_part3['sent_score'] = tt_part3['text_clean'].apply(tweet_proc)"
   ]
  },
  {
   "cell_type": "code",
   "execution_count": 96,
   "id": "bbf32123-f22c-455d-80d6-94c9f9cb8dcb",
   "metadata": {},
   "outputs": [],
   "source": [
    "tt_part4 = tt[6000:8000]\n",
    "tt_part4['sent_score'] = tt_part4['text_clean'].apply(tweet_proc)"
   ]
  },
  {
   "cell_type": "code",
   "execution_count": 97,
   "id": "23397db5-ba1e-4e87-b5b8-8f7fb533d96e",
   "metadata": {},
   "outputs": [],
   "source": [
    "tt_part5 = tt[8000:10000]\n",
    "tt_part5['sent_score'] = tt_part5['text_clean'].apply(tweet_proc)"
   ]
  },
  {
   "cell_type": "code",
   "execution_count": 98,
   "id": "fe2b0d37-977b-4b3d-88df-1e7d1e3e9718",
   "metadata": {},
   "outputs": [],
   "source": [
    "tt_part6 = tt[10000:12000]\n",
    "tt_part6['sent_score'] = tt_part6['text_clean'].apply(tweet_proc)"
   ]
  },
  {
   "cell_type": "code",
   "execution_count": 99,
   "id": "0fbfc133-b3bb-479b-b0b6-c2f84e91435b",
   "metadata": {},
   "outputs": [],
   "source": [
    "tt_part7 = tt[12000:14000]\n",
    "tt_part7['sent_score'] = tt_part7['text_clean'].apply(tweet_proc)"
   ]
  },
  {
   "cell_type": "code",
   "execution_count": 100,
   "id": "470f3c57-76f8-44a2-91f6-b3a34f15be2a",
   "metadata": {},
   "outputs": [],
   "source": [
    "tt_part8 = tt[14000:16000]\n",
    "tt_part8['sent_score'] = tt_part8['text_clean'].apply(tweet_proc)"
   ]
  },
  {
   "cell_type": "code",
   "execution_count": 101,
   "id": "ee979050-42ff-4dd5-896b-0d8f81d615e7",
   "metadata": {},
   "outputs": [],
   "source": [
    "tt_part9 = tt[16000:]\n",
    "tt_part9['sent_score'] = tt_part9['text_clean'].apply(tweet_proc)"
   ]
  },
  {
   "cell_type": "code",
   "execution_count": 274,
   "id": "e7416121-aad9-4a48-86c9-9a8da9a64d11",
   "metadata": {},
   "outputs": [],
   "source": [
    "# Consolido mis particiones ya analizadas:\n",
    "tt = pd.concat([tt_part1, tt_part2, tt_part3, tt_part4, tt_part5, tt_part6, tt_part7, tt_part8, tt_part9])\n",
    "\n",
    "# Creando columnas por sentimiento:\n",
    "def neg_score(text):\n",
    "    return text[0]\n",
    "tt['neg_score'] = tt['sent_score'].apply(neg_score)\n",
    "\n",
    "def neu_score(text):\n",
    "    return text[1]\n",
    "tt['neu_score'] = tt['sent_score'].apply(neu_score)\n",
    "\n",
    "def pos_score(text):\n",
    "    return text[2]\n",
    "tt['pos_score'] = tt['sent_score'].apply(pos_score)\n",
    "\n",
    "# Defino target. Con una prob pos >= 0.7 diré que son tweets positivos, y lo mismo para negativos. El resto los tomaré como tweets neutros:\n",
    "tt['target'] = np.where(tt['pos_score'] > 0.65, 1,\n",
    "                              np.where(tt['neg_score'] > 0.65, -1,\n",
    "                                       0))"
   ]
  },
  {
   "cell_type": "code",
   "execution_count": 103,
   "id": "80ee5dbf-b8d8-41eb-b4a8-d43224bcc99d",
   "metadata": {},
   "outputs": [
    {
     "data": {
      "text/html": [
       "<div>\n",
       "<style scoped>\n",
       "    .dataframe tbody tr th:only-of-type {\n",
       "        vertical-align: middle;\n",
       "    }\n",
       "\n",
       "    .dataframe tbody tr th {\n",
       "        vertical-align: top;\n",
       "    }\n",
       "\n",
       "    .dataframe thead th {\n",
       "        text-align: right;\n",
       "    }\n",
       "</style>\n",
       "<table border=\"1\" class=\"dataframe\">\n",
       "  <thead>\n",
       "    <tr style=\"text-align: right;\">\n",
       "      <th></th>\n",
       "      <th>text</th>\n",
       "      <th>date</th>\n",
       "      <th>text_clean</th>\n",
       "      <th>target</th>\n",
       "    </tr>\n",
       "  </thead>\n",
       "  <tbody>\n",
       "    <tr>\n",
       "      <th>0</th>\n",
       "      <td>Scary Skull 3D Bling Swarovski Crystal iPhone ...</td>\n",
       "      <td>2022-09-04</td>\n",
       "      <td>scary skull 3d bling swarovski crystal iphone ...</td>\n",
       "      <td>0</td>\n",
       "    </tr>\n",
       "    <tr>\n",
       "      <th>1</th>\n",
       "      <td>Midnight Blue \\n#apple #iphone14 https://t.co/...</td>\n",
       "      <td>2022-09-04</td>\n",
       "      <td>midnight blue apple iphone14 http</td>\n",
       "      <td>0</td>\n",
       "    </tr>\n",
       "    <tr>\n",
       "      <th>2</th>\n",
       "      <td>Part of me is looking forward to the #AppleEve...</td>\n",
       "      <td>2022-09-04</td>\n",
       "      <td>part of me is looking forward to the appleeven...</td>\n",
       "      <td>0</td>\n",
       "    </tr>\n",
       "  </tbody>\n",
       "</table>\n",
       "</div>"
      ],
      "text/plain": [
       "                                                text        date  \\\n",
       "0  Scary Skull 3D Bling Swarovski Crystal iPhone ...  2022-09-04   \n",
       "1  Midnight Blue \\n#apple #iphone14 https://t.co/...  2022-09-04   \n",
       "2  Part of me is looking forward to the #AppleEve...  2022-09-04   \n",
       "\n",
       "                                          text_clean  target  \n",
       "0  scary skull 3d bling swarovski crystal iphone ...       0  \n",
       "1                  midnight blue apple iphone14 http       0  \n",
       "2  part of me is looking forward to the appleeven...       0  "
      ]
     },
     "execution_count": 103,
     "metadata": {},
     "output_type": "execute_result"
    }
   ],
   "source": [
    "# Me quedaré sólo con las columnas de interés:\n",
    "df_important = tt[['text','date','text_clean','target']]\n",
    "df_important.head(3)"
   ]
  },
  {
   "cell_type": "code",
   "execution_count": 106,
   "id": "4e677140-dcc2-4123-8186-b7b252ced70b",
   "metadata": {},
   "outputs": [],
   "source": [
    "# Guardo todos los datos etiquetados en un csv para no tener que ejecutar cada vez que se me reinicie el kernel:\n",
    "\n",
    "df_important.to_csv('total_tweets.csv', index = False)"
   ]
  },
  {
   "cell_type": "code",
   "execution_count": 168,
   "id": "e6735ce0-4ac3-4318-92ab-ea9a27a55ea4",
   "metadata": {},
   "outputs": [],
   "source": [
    "df_important = pd.read_csv('./total_tweets.csv')"
   ]
  },
  {
   "cell_type": "code",
   "execution_count": 169,
   "id": "a9cae075-c2f8-4f82-a36f-4a426e2b65b2",
   "metadata": {},
   "outputs": [],
   "source": [
    "# Extraeré 600 tweets de cada sentimiento para revisarlos manualmente y entrenar modelo:\n",
    "df_important_neutral = df_important[df_important['target'] == 0].sample(n = 800)\n",
    "df_important_positive = df_important[df_important['target'] == 1].sample(n = 800)\n",
    "df_important_negative = df_important[df_important['target'] == -1].sample(n = 800)"
   ]
  },
  {
   "cell_type": "code",
   "execution_count": 170,
   "id": "f987e287-7c8f-46b9-b1c8-1785c01d71ae",
   "metadata": {},
   "outputs": [
    {
     "data": {
      "text/plain": [
       "(2400, 4)"
      ]
     },
     "execution_count": 170,
     "metadata": {},
     "output_type": "execute_result"
    }
   ],
   "source": [
    "df_muestra_important = pd.concat([df_important_neutral, df_important_positive, df_important_negative])\n",
    "df_muestra_important.shape"
   ]
  },
  {
   "cell_type": "code",
   "execution_count": 171,
   "id": "faf02e6a-f689-4c53-ad66-83d3c5d7771a",
   "metadata": {},
   "outputs": [],
   "source": [
    "# Ahora lo paso a un excel para una revisión manual:\n",
    "df_muestra_important.to_excel('muestra_modelo.xlsx', index = False)"
   ]
  },
  {
   "cell_type": "code",
   "execution_count": 203,
   "id": "f3c57578-8d59-4e78-b0bf-50b7ac98815f",
   "metadata": {},
   "outputs": [
    {
     "data": {
      "text/html": [
       "<div>\n",
       "<style scoped>\n",
       "    .dataframe tbody tr th:only-of-type {\n",
       "        vertical-align: middle;\n",
       "    }\n",
       "\n",
       "    .dataframe tbody tr th {\n",
       "        vertical-align: top;\n",
       "    }\n",
       "\n",
       "    .dataframe thead th {\n",
       "        text-align: right;\n",
       "    }\n",
       "</style>\n",
       "<table border=\"1\" class=\"dataframe\">\n",
       "  <thead>\n",
       "    <tr style=\"text-align: right;\">\n",
       "      <th></th>\n",
       "      <th>text</th>\n",
       "      <th>date</th>\n",
       "      <th>text_clean</th>\n",
       "      <th>target</th>\n",
       "    </tr>\n",
       "  </thead>\n",
       "  <tbody>\n",
       "    <tr>\n",
       "      <th>0</th>\n",
       "      <td>Apple Watch series 8 #AppleEvent https://t.co/...</td>\n",
       "      <td>2022-09-07</td>\n",
       "      <td>apple watch series 8 appleevent http</td>\n",
       "      <td>0</td>\n",
       "    </tr>\n",
       "    <tr>\n",
       "      <th>1</th>\n",
       "      <td>@delicate_onyx The meme king himself always ha...</td>\n",
       "      <td>2022-09-03</td>\n",
       "      <td>@user the meme king himself always having some...</td>\n",
       "      <td>0</td>\n",
       "    </tr>\n",
       "    <tr>\n",
       "      <th>2</th>\n",
       "      <td>#AppleEvent #iPhone14 #AppleWatchPro #AppleWat...</td>\n",
       "      <td>2022-09-07</td>\n",
       "      <td>appleevent iphone14 applewatchpro applewatchul...</td>\n",
       "      <td>0</td>\n",
       "    </tr>\n",
       "    <tr>\n",
       "      <th>3</th>\n",
       "      <td>Apple Iphone 14 Pro renders from Spigen Insta ...</td>\n",
       "      <td>2022-09-05</td>\n",
       "      <td>apple iphone 14 pro renders from spigen insta ...</td>\n",
       "      <td>0</td>\n",
       "    </tr>\n",
       "    <tr>\n",
       "      <th>4</th>\n",
       "      <td>Does it make more sense for #Apple to revive t...</td>\n",
       "      <td>2022-09-03</td>\n",
       "      <td>does it make more sense for apple to revive th...</td>\n",
       "      <td>0</td>\n",
       "    </tr>\n",
       "  </tbody>\n",
       "</table>\n",
       "</div>"
      ],
      "text/plain": [
       "                                                text        date  \\\n",
       "0  Apple Watch series 8 #AppleEvent https://t.co/...  2022-09-07   \n",
       "1  @delicate_onyx The meme king himself always ha...  2022-09-03   \n",
       "2  #AppleEvent #iPhone14 #AppleWatchPro #AppleWat...  2022-09-07   \n",
       "3  Apple Iphone 14 Pro renders from Spigen Insta ...  2022-09-05   \n",
       "4  Does it make more sense for #Apple to revive t...  2022-09-03   \n",
       "\n",
       "                                          text_clean  target  \n",
       "0               apple watch series 8 appleevent http       0  \n",
       "1  @user the meme king himself always having some...       0  \n",
       "2  appleevent iphone14 applewatchpro applewatchul...       0  \n",
       "3  apple iphone 14 pro renders from spigen insta ...       0  \n",
       "4  does it make more sense for apple to revive th...       0  "
      ]
     },
     "execution_count": 203,
     "metadata": {},
     "output_type": "execute_result"
    }
   ],
   "source": [
    "# Importo tweets manualmente arreglados:\n",
    "tt_modelo = pd.read_excel('./muestra_modelo.xlsx')\n",
    "tt_modelo.head()"
   ]
  },
  {
   "cell_type": "code",
   "execution_count": 204,
   "id": "7bdb3fe0-63ed-42b2-93b0-2fe6114c9f4a",
   "metadata": {},
   "outputs": [],
   "source": [
    "from nltk.tokenize import sent_tokenize, word_tokenize\n",
    "from nltk.corpus import stopwords\n",
    " \n",
    "from nltk.tokenize import sent_tokenize, word_tokenize\n",
    "from nltk.corpus import stopwords\n",
    " \n",
    "def stop_words_tokenize(data):\n",
    "    stopWords = set(stopwords.words('english'))\n",
    "    words = word_tokenize(data)\n",
    "    wordsFiltered = []\n",
    "    for w in words:\n",
    "        if w not in stopWords:\n",
    "            wordsFiltered.append(w)\n",
    "    return wordsFiltered"
   ]
  },
  {
   "cell_type": "code",
   "execution_count": 205,
   "id": "f4779f34-887f-4020-9c89-4b99d6e6dfe7",
   "metadata": {},
   "outputs": [],
   "source": [
    "tt_modelo['text_stop_words_tokenize'] = tt_modelo['text_clean'].apply(stop_words_tokenize)"
   ]
  },
  {
   "cell_type": "code",
   "execution_count": 206,
   "id": "ac568c7e-776b-4747-ae6c-122c337ff8e0",
   "metadata": {},
   "outputs": [],
   "source": [
    "from nltk.stem import PorterStemmer\n",
    "from nltk.tokenize import sent_tokenize, word_tokenize\n",
    "\n",
    "def stem(lista):\n",
    "    stemmer = PorterStemmer()\n",
    "    new_lista_stem = []\n",
    "    for word in lista:\n",
    "        a = stemmer.stem(word)\n",
    "        new_lista_stem.append(a)\n",
    "    return new_lista_stem"
   ]
  },
  {
   "cell_type": "code",
   "execution_count": 207,
   "id": "d00c2c51-fa87-4e6c-abe3-63ab7b5c9e56",
   "metadata": {},
   "outputs": [],
   "source": [
    "tt_modelo['text_stop_words_tokenize_stem'] = tt_modelo['text_stop_words_tokenize'].apply(stem)"
   ]
  },
  {
   "cell_type": "code",
   "execution_count": 209,
   "id": "e76ddadc-31a8-4f05-a0d1-3b400c5b0c5d",
   "metadata": {
    "tags": []
   },
   "outputs": [
    {
     "data": {
      "text/plain": [
       "0                       appl watch seri 8 appleev http\n",
       "1    @ user meme king alway someth trend bbnaija ip...\n",
       "2    appleev iphone14 applewatchpro applewatchultra...\n",
       "3    appl iphon 14 pro render spigen insta handl re...\n",
       "4    make sens appl reviv plu brand drop max regula...\n",
       "Name: text_junto, dtype: object"
      ]
     },
     "execution_count": 209,
     "metadata": {},
     "output_type": "execute_result"
    }
   ],
   "source": [
    "def unir(text):\n",
    "    return ' '.join(text)\n",
    "\n",
    "tt_modelo['text_junto'] = tt_modelo['text_stop_words_tokenize_stem'].apply(unir)\n",
    "tt_modelo['text_junto'].head()"
   ]
  },
  {
   "cell_type": "code",
   "execution_count": 210,
   "id": "95af6393-24c6-47c4-9305-f3f70bcf15c2",
   "metadata": {},
   "outputs": [
    {
     "data": {
      "text/html": [
       "<div>\n",
       "<style scoped>\n",
       "    .dataframe tbody tr th:only-of-type {\n",
       "        vertical-align: middle;\n",
       "    }\n",
       "\n",
       "    .dataframe tbody tr th {\n",
       "        vertical-align: top;\n",
       "    }\n",
       "\n",
       "    .dataframe thead th {\n",
       "        text-align: right;\n",
       "    }\n",
       "</style>\n",
       "<table border=\"1\" class=\"dataframe\">\n",
       "  <thead>\n",
       "    <tr style=\"text-align: right;\">\n",
       "      <th></th>\n",
       "      <th>text_junto</th>\n",
       "      <th>target</th>\n",
       "    </tr>\n",
       "  </thead>\n",
       "  <tbody>\n",
       "    <tr>\n",
       "      <th>0</th>\n",
       "      <td>appl watch seri 8 appleev http</td>\n",
       "      <td>0</td>\n",
       "    </tr>\n",
       "    <tr>\n",
       "      <th>1</th>\n",
       "      <td>@ user meme king alway someth trend bbnaija ip...</td>\n",
       "      <td>0</td>\n",
       "    </tr>\n",
       "    <tr>\n",
       "      <th>2</th>\n",
       "      <td>appleev iphone14 applewatchpro applewatchultra...</td>\n",
       "      <td>0</td>\n",
       "    </tr>\n",
       "    <tr>\n",
       "      <th>3</th>\n",
       "      <td>appl iphon 14 pro render spigen insta handl re...</td>\n",
       "      <td>0</td>\n",
       "    </tr>\n",
       "    <tr>\n",
       "      <th>4</th>\n",
       "      <td>make sens appl reviv plu brand drop max regula...</td>\n",
       "      <td>0</td>\n",
       "    </tr>\n",
       "  </tbody>\n",
       "</table>\n",
       "</div>"
      ],
      "text/plain": [
       "                                          text_junto  target\n",
       "0                     appl watch seri 8 appleev http       0\n",
       "1  @ user meme king alway someth trend bbnaija ip...       0\n",
       "2  appleev iphone14 applewatchpro applewatchultra...       0\n",
       "3  appl iphon 14 pro render spigen insta handl re...       0\n",
       "4  make sens appl reviv plu brand drop max regula...       0"
      ]
     },
     "execution_count": 210,
     "metadata": {},
     "output_type": "execute_result"
    }
   ],
   "source": [
    "tt_modelo = tt_modelo[['text_junto','target']]\n",
    "tt_modelo.head()"
   ]
  },
  {
   "cell_type": "code",
   "execution_count": 211,
   "id": "cc86b0b4-675b-4118-9e56-f9e006774e2b",
   "metadata": {},
   "outputs": [],
   "source": [
    "target = 'target'\n",
    "y = tt_modelo[target]\n",
    "X = tt_modelo['text_junto']"
   ]
  },
  {
   "cell_type": "code",
   "execution_count": 212,
   "id": "c8492e7e-85c7-4a76-8067-b04e41d58652",
   "metadata": {},
   "outputs": [],
   "source": [
    "from sklearn.feature_extraction.text import TfidfVectorizer\n",
    "\n",
    "tfidf = TfidfVectorizer()\n",
    "X = tfidf.fit_transform(X).toarray()"
   ]
  },
  {
   "cell_type": "code",
   "execution_count": 253,
   "id": "f2743225-b0ca-41a4-a242-8d00854f3779",
   "metadata": {},
   "outputs": [],
   "source": [
    "from sklearn.model_selection import train_test_split\n",
    "\n",
    "X_train, X_test, y_train, y_test = train_test_split(X, y, test_size = .2, random_state = 3)"
   ]
  },
  {
   "cell_type": "code",
   "execution_count": 254,
   "id": "aac01a6a-c392-447f-b489-c3d445110f46",
   "metadata": {},
   "outputs": [],
   "source": [
    "# Using naivebayes classifier\n",
    "from sklearn.naive_bayes import MultinomialNB\n",
    "\n",
    "model = MultinomialNB().fit(X_train,y_train)\n",
    "y_test_predict = model.predict(X_test)"
   ]
  },
  {
   "cell_type": "code",
   "execution_count": 255,
   "id": "c4ac6de5-6bf2-4120-8642-51e9999f2cd7",
   "metadata": {},
   "outputs": [],
   "source": [
    "from sklearn.metrics import confusion_matrix\n",
    "\n",
    "def eval_model(model, X_train, X_test, y_train, y_test):\n",
    "    pred_train = model.predict(X_train)\n",
    "    pred_test = model.predict(X_test)\n",
    "    print('Train')\n",
    "    print(metrics.accuracy_score(pred_train, y_train))\n",
    "    metrics.plot_confusion_matrix(model, X_train, y_train)\n",
    "    plt.show()\n",
    "    print('Test')\n",
    "    print(metrics.accuracy_score(pred_test, y_test))\n",
    "    metrics.plot_confusion_matrix(model, X_test, y_test)\n",
    "    plt.show()"
   ]
  },
  {
   "cell_type": "code",
   "execution_count": 256,
   "id": "88bfbfce-cbcf-43f7-8b36-4ae925ce2f96",
   "metadata": {},
   "outputs": [
    {
     "name": "stdout",
     "output_type": "stream",
     "text": [
      "Train\n",
      "0.8921875\n"
     ]
    },
    {
     "data": {
      "image/png": "[encoded data removed]",
      "text/plain": [
       "<Figure size 432x288 with 2 Axes>"
      ]
     },
     "metadata": {
      "needs_background": "light"
     },
     "output_type": "display_data"
    },
    {
     "name": "stdout",
     "output_type": "stream",
     "text": [
      "Test\n",
      "0.6583333333333333\n"
     ]
    },
    {
     "data": {
      "image/png": "[encoded data removed]",
      "text/plain": [
       "<Figure size 432x288 with 2 Axes>"
      ]
     },
     "metadata": {
      "needs_background": "light"
     },
     "output_type": "display_data"
    }
   ],
   "source": [
    "from sklearn import metrics\n",
    "import matplotlib.pyplot as plt \n",
    "\n",
    "eval_model(model, X_train, X_test, y_train, y_test)\n",
    "\n",
    "# Claramente hay mucho que pulir para aumentar el accuracy_score (desde la limpieza al etiquetado).\n",
    "# De todas formas, leí varios artículos que decían que ro-BERT-a es bastante más preciso que hacer un modelo de Naive Bayes."
   ]
  },
  {
   "cell_type": "code",
   "execution_count": 228,
   "id": "52bedb7e-0041-4632-bc5a-4cac33cead57",
   "metadata": {},
   "outputs": [
    {
     "data": {
      "text/html": [
       "<div>\n",
       "<style scoped>\n",
       "    .dataframe tbody tr th:only-of-type {\n",
       "        vertical-align: middle;\n",
       "    }\n",
       "\n",
       "    .dataframe tbody tr th {\n",
       "        vertical-align: top;\n",
       "    }\n",
       "\n",
       "    .dataframe thead th {\n",
       "        text-align: right;\n",
       "    }\n",
       "</style>\n",
       "<table border=\"1\" class=\"dataframe\">\n",
       "  <thead>\n",
       "    <tr style=\"text-align: right;\">\n",
       "      <th></th>\n",
       "      <th>text</th>\n",
       "      <th>date</th>\n",
       "      <th>text_clean</th>\n",
       "      <th>target</th>\n",
       "      <th>text_stop_words_tokenize</th>\n",
       "      <th>text_stop_words_tokenize_stem</th>\n",
       "    </tr>\n",
       "  </thead>\n",
       "  <tbody>\n",
       "    <tr>\n",
       "      <th>0</th>\n",
       "      <td>Scary Skull 3D Bling Swarovski Crystal iPhone ...</td>\n",
       "      <td>2022-09-04</td>\n",
       "      <td>scary skull 3d bling swarovski crystal iphone ...</td>\n",
       "      <td>0</td>\n",
       "      <td>[scary, skull, 3d, bling, swarovski, crystal, ...</td>\n",
       "      <td>[scari, skull, 3d, bling, swarovski, crystal, ...</td>\n",
       "    </tr>\n",
       "    <tr>\n",
       "      <th>1</th>\n",
       "      <td>Midnight Blue \\n#apple #iphone14 https://t.co/...</td>\n",
       "      <td>2022-09-04</td>\n",
       "      <td>midnight blue apple iphone14 http</td>\n",
       "      <td>0</td>\n",
       "      <td>[midnight, blue, apple, iphone14, http]</td>\n",
       "      <td>[midnight, blue, appl, iphone14, http]</td>\n",
       "    </tr>\n",
       "    <tr>\n",
       "      <th>2</th>\n",
       "      <td>Part of me is looking forward to the #AppleEve...</td>\n",
       "      <td>2022-09-04</td>\n",
       "      <td>part of me is looking forward to the appleeven...</td>\n",
       "      <td>0</td>\n",
       "      <td>[part, looking, forward, appleevent, wednesday...</td>\n",
       "      <td>[part, look, forward, appleev, wednesday, ., t...</td>\n",
       "    </tr>\n",
       "    <tr>\n",
       "      <th>3</th>\n",
       "      <td>iPhone 14 Pro Early Trailer @hassantheshah \\nF...</td>\n",
       "      <td>2022-09-04</td>\n",
       "      <td>iphone 14 pro early trailer @user feel free to...</td>\n",
       "      <td>0</td>\n",
       "      <td>[iphone, 14, pro, early, trailer, @, user, fee...</td>\n",
       "      <td>[iphon, 14, pro, earli, trailer, @, user, feel...</td>\n",
       "    </tr>\n",
       "    <tr>\n",
       "      <th>4</th>\n",
       "      <td>sell/buy/repair iPhones best price SG @ https:...</td>\n",
       "      <td>2022-09-04</td>\n",
       "      <td>sell/buy/repair iphones best price sg @ http s...</td>\n",
       "      <td>0</td>\n",
       "      <td>[sell/buy/repair, iphones, best, price, sg, @,...</td>\n",
       "      <td>[sell/buy/repair, iphon, best, price, sg, @, h...</td>\n",
       "    </tr>\n",
       "  </tbody>\n",
       "</table>\n",
       "</div>"
      ],
      "text/plain": [
       "                                                text        date  \\\n",
       "0  Scary Skull 3D Bling Swarovski Crystal iPhone ...  2022-09-04   \n",
       "1  Midnight Blue \\n#apple #iphone14 https://t.co/...  2022-09-04   \n",
       "2  Part of me is looking forward to the #AppleEve...  2022-09-04   \n",
       "3  iPhone 14 Pro Early Trailer @hassantheshah \\nF...  2022-09-04   \n",
       "4  sell/buy/repair iPhones best price SG @ https:...  2022-09-04   \n",
       "\n",
       "                                          text_clean  target  \\\n",
       "0  scary skull 3d bling swarovski crystal iphone ...       0   \n",
       "1                  midnight blue apple iphone14 http       0   \n",
       "2  part of me is looking forward to the appleeven...       0   \n",
       "3  iphone 14 pro early trailer @user feel free to...       0   \n",
       "4  sell/buy/repair iphones best price sg @ http s...       0   \n",
       "\n",
       "                            text_stop_words_tokenize  \\\n",
       "0  [scary, skull, 3d, bling, swarovski, crystal, ...   \n",
       "1            [midnight, blue, apple, iphone14, http]   \n",
       "2  [part, looking, forward, appleevent, wednesday...   \n",
       "3  [iphone, 14, pro, early, trailer, @, user, fee...   \n",
       "4  [sell/buy/repair, iphones, best, price, sg, @,...   \n",
       "\n",
       "                       text_stop_words_tokenize_stem  \n",
       "0  [scari, skull, 3d, bling, swarovski, crystal, ...  \n",
       "1             [midnight, blue, appl, iphone14, http]  \n",
       "2  [part, look, forward, appleev, wednesday, ., t...  \n",
       "3  [iphon, 14, pro, earli, trailer, @, user, feel...  \n",
       "4  [sell/buy/repair, iphon, best, price, sg, @, h...  "
      ]
     },
     "execution_count": 228,
     "metadata": {},
     "output_type": "execute_result"
    }
   ],
   "source": [
    "df_important.head()"
   ]
  },
  {
   "cell_type": "code",
   "execution_count": 223,
   "id": "7c681294-e755-43f3-9bff-afb39c30633e",
   "metadata": {},
   "outputs": [],
   "source": [
    "df_important['text_stop_words_tokenize'] = df_important['text_clean'].apply(stop_words_tokenize)"
   ]
  },
  {
   "cell_type": "code",
   "execution_count": 117,
   "id": "ba06d6c0-6558-47c9-9613-bfba9fa5d532",
   "metadata": {},
   "outputs": [],
   "source": [
    "# Modelo listo, pero como estos datos ya están etiquetados, los dejaré así por optimización de tiempo, y con el benchmarking mejoraré score y utilizaré modelo:\n",
    "\n",
    "# Filtro mi DF con tweets negativos:\n",
    "df_negative = df_important[df_important['target'] == -1]\n",
    "\n",
    "# Hago una lista con las palabras tokenizadas y lemmatizadas de los tweets negativos:\n",
    "negative_tweets_list = []\n",
    "for l in df_negative['text_stop_words_tokenize']:\n",
    "    extra_words = ['phone','iphones','apple','iphone','doesn','doesnt','bring','going','getting','having']\n",
    "    for w in l:\n",
    "        if w not in extra_words:\n",
    "            negative_tweets_list.append(w)\n",
    "            \n",
    "\n",
    "# Paso mi lista de palabras negativas a un string con fines de visualización:\n",
    "negative_tweets_list = ['charger' if re.search(r'char', x) else x for x in negative_tweets_list]\n",
    "\n",
    "words_negative_tweets = str(negative_tweets_list)\n",
    "\n",
    "# Frecuencia de palabras, aunque es redundante con la nube:\n",
    "# fdist = FreqDist(negative_tweets_list)\n",
    "# fdist.most_common()"
   ]
  },
  {
   "cell_type": "code",
   "execution_count": null,
   "id": "93437e2e-cced-4425-9837-1947eadff17e",
   "metadata": {},
   "outputs": [],
   "source": [
    "# Importo la paleta de colores que usaré para la nube:\n",
    "from palettable.matplotlib import Inferno_6\n",
    "\n",
    "# Defino parámetros de mi nube negativa:\n",
    "stylecloud.gen_stylecloud(text = words_negative_tweets,\n",
    "                          size = 1500,\n",
    "                          icon_name = \"fab fa-apple\",\n",
    "                          colors = '#FAB59F', # palette = 'matplotlib.Inferno_6',\n",
    "                          background_color=\"#121435\",\n",
    "                          output_name = 'negativewords.jpg')"
   ]
  },
  {
   "cell_type": "code",
   "execution_count": null,
   "id": "6b6016df-db26-4371-b02e-5d7989ab3f99",
   "metadata": {},
   "outputs": [],
   "source": [
    "# Filtro mi DF con tweets negativos:\n",
    "df_positive = df_important[df_important['target'] == 1]\n",
    "\n",
    "# Hago una lista con las palabras tokenizadas y lemmatizadas de los tweets negativos:\n",
    "positive_tweets_list = []\n",
    "for l in df_positive['text_stop_words_tokenize']:\n",
    "    extra_words = ['phone','iphones','apple','iphone','doesn','doesnt','bring']\n",
    "    for w in l:\n",
    "        if w not in extra_words:\n",
    "            positive_tweets_list.append(w)\n",
    "\n",
    "# Paso mi lista de palabras negativas a un string con fines de visualización:\n",
    "words_positive_tweets = str(positive_tweets_list)\n",
    "\n",
    "# Frecuencia de palabras, aunque es redundante con la nube:\n",
    "# fdist = FreqDist(positive_tweets_list)"
   ]
  },
  {
   "cell_type": "code",
   "execution_count": null,
   "id": "56a265a2-2338-4198-918b-75a00e259299",
   "metadata": {},
   "outputs": [],
   "source": [
    "# Importo la paleta de colores que usaré para la nube:\n",
    "from palettable.matplotlib import Inferno_13\n",
    "\n",
    "# Defino parámetros de mi nube positiva:\n",
    "stylecloud.gen_stylecloud(text = words_positive_tweets,\n",
    "                          size = 1500,\n",
    "                          icon_name = \"fab fa-apple\",\n",
    "                          colors = '#FAF9F0', # palette = 'matplotlib.Inferno_6',\n",
    "                          background_color=\"#121435\",\n",
    "                          output_name = 'positivewords.jpg')"
   ]
  },
  {
   "cell_type": "code",
   "execution_count": 280,
   "id": "9124652f-b6e0-4073-8842-933cfe4a224e",
   "metadata": {},
   "outputs": [
    {
     "data": {
      "text/html": [
       "<div>\n",
       "<style scoped>\n",
       "    .dataframe tbody tr th:only-of-type {\n",
       "        vertical-align: middle;\n",
       "    }\n",
       "\n",
       "    .dataframe tbody tr th {\n",
       "        vertical-align: top;\n",
       "    }\n",
       "\n",
       "    .dataframe thead th {\n",
       "        text-align: right;\n",
       "    }\n",
       "</style>\n",
       "<table border=\"1\" class=\"dataframe\">\n",
       "  <thead>\n",
       "    <tr style=\"text-align: right;\">\n",
       "      <th></th>\n",
       "      <th>text</th>\n",
       "      <th>target</th>\n",
       "    </tr>\n",
       "  </thead>\n",
       "  <tbody>\n",
       "    <tr>\n",
       "      <th>2132</th>\n",
       "      <td>Apple needs to fix there fucking chargers inst...</td>\n",
       "      <td>-1</td>\n",
       "    </tr>\n",
       "    <tr>\n",
       "      <th>2925</th>\n",
       "      <td>#iPhone14 making a phone every year with littl...</td>\n",
       "      <td>-1</td>\n",
       "    </tr>\n",
       "    <tr>\n",
       "      <th>3440</th>\n",
       "      <td>@MKBHD With this step their sells will goes wa...</td>\n",
       "      <td>-1</td>\n",
       "    </tr>\n",
       "    <tr>\n",
       "      <th>5244</th>\n",
       "      <td>@Apple making #iphone every year with little t...</td>\n",
       "      <td>-1</td>\n",
       "    </tr>\n",
       "    <tr>\n",
       "      <th>8443</th>\n",
       "      <td>@Apple #iPhone14 making a phone every year wit...</td>\n",
       "      <td>-1</td>\n",
       "    </tr>\n",
       "    <tr>\n",
       "      <th>9947</th>\n",
       "      <td>#boycottApple not providing charger a basic ne...</td>\n",
       "      <td>-1</td>\n",
       "    </tr>\n",
       "    <tr>\n",
       "      <th>15265</th>\n",
       "      <td>Making  a phone every year with little to no i...</td>\n",
       "      <td>-1</td>\n",
       "    </tr>\n",
       "    <tr>\n",
       "      <th>15981</th>\n",
       "      <td>iPhone14 don’t come wit no charger, Apple out ...</td>\n",
       "      <td>-1</td>\n",
       "    </tr>\n",
       "    <tr>\n",
       "      <th>16948</th>\n",
       "      <td>⚖️The Justice ministry of Brazil🇧🇷 said\"Apple ...</td>\n",
       "      <td>-1</td>\n",
       "    </tr>\n",
       "    <tr>\n",
       "      <th>17258</th>\n",
       "      <td>Brazil bans apple due to lack of charger. \\nUX...</td>\n",
       "      <td>-1</td>\n",
       "    </tr>\n",
       "    <tr>\n",
       "      <th>17283</th>\n",
       "      <td>Apple selles phones without charger...is this ...</td>\n",
       "      <td>-1</td>\n",
       "    </tr>\n",
       "  </tbody>\n",
       "</table>\n",
       "</div>"
      ],
      "text/plain": [
       "                                                    text  target\n",
       "2132   Apple needs to fix there fucking chargers inst...      -1\n",
       "2925   #iPhone14 making a phone every year with littl...      -1\n",
       "3440   @MKBHD With this step their sells will goes wa...      -1\n",
       "5244   @Apple making #iphone every year with little t...      -1\n",
       "8443   @Apple #iPhone14 making a phone every year wit...      -1\n",
       "9947   #boycottApple not providing charger a basic ne...      -1\n",
       "15265  Making  a phone every year with little to no i...      -1\n",
       "15981  iPhone14 don’t come wit no charger, Apple out ...      -1\n",
       "16948  ⚖️The Justice ministry of Brazil🇧🇷 said\"Apple ...      -1\n",
       "17258  Brazil bans apple due to lack of charger. \\nUX...      -1\n",
       "17283  Apple selles phones without charger...is this ...      -1"
      ]
     },
     "execution_count": 280,
     "metadata": {},
     "output_type": "execute_result"
    }
   ],
   "source": [
    "text_charger = df_important[(df_important['text'].str.lower().str.contains('charger')) & (df_important['target'] == -1)][['text','target']]\n",
    "text_charger"
   ]
  },
  {
   "cell_type": "code",
   "execution_count": null,
   "id": "32e7cc9a-cc4d-4d07-a85d-d1b318c2552d",
   "metadata": {},
   "outputs": [],
   "source": [
    "print(text_charger.text[8463])"
   ]
  },
  {
   "cell_type": "code",
   "execution_count": null,
   "id": "88961935-3d44-47c4-b14b-a12a888a4bb7",
   "metadata": {},
   "outputs": [],
   "source": [
    "print(text_charger.text[90177])"
   ]
  },
  {
   "cell_type": "code",
   "execution_count": null,
   "id": "9ff25ce6-8719-4591-a63b-3e2c20152899",
   "metadata": {},
   "outputs": [],
   "source": [
    "print(text_charger.text[13086])"
   ]
  },
  {
   "cell_type": "code",
   "execution_count": null,
   "id": "2473c701-bbc6-40d1-9763-ec7d06b04fe9",
   "metadata": {},
   "outputs": [],
   "source": [
    "print(text_charger.text[59538])"
   ]
  },
  {
   "cell_type": "code",
   "execution_count": null,
   "id": "ab9ae5a3-0426-4c1c-8812-bf0c67f980b6",
   "metadata": {},
   "outputs": [],
   "source": [
    "print(text_charger.text[91037])"
   ]
  },
  {
   "cell_type": "markdown",
   "id": "75ffd2ec-aa3a-4352-8188-cac3ccb4e1b3",
   "metadata": {},
   "source": [
    "# BENCHMARKING GALAXY S22"
   ]
  },
  {
   "cell_type": "code",
   "execution_count": 261,
   "id": "a2d45880-3641-40ff-8447-c65ca23c0a80",
   "metadata": {},
   "outputs": [],
   "source": [
    "df_samsung = pd.read_csv('./SamsungGalaxyS22.csv')"
   ]
  },
  {
   "cell_type": "code",
   "execution_count": 262,
   "id": "ff01e175-d53e-43ce-89f9-a23986f6709f",
   "metadata": {},
   "outputs": [],
   "source": [
    "# Elimino columnas que no sirven:\n",
    "df_samsung.drop(columns = ['Unnamed: 0','username','description', 'following','totaltweets','hashtags'], inplace = True)\n",
    "\n",
    "# Elimino duplicados:\n",
    "df_samsung.drop_duplicates(subset=['text'], keep='first', inplace = True)"
   ]
  },
  {
   "cell_type": "code",
   "execution_count": 264,
   "id": "73341a62-baf1-483d-9d79-0941ab3c4665",
   "metadata": {},
   "outputs": [
    {
     "data": {
      "text/html": [
       "<div>\n",
       "<style scoped>\n",
       "    .dataframe tbody tr th:only-of-type {\n",
       "        vertical-align: middle;\n",
       "    }\n",
       "\n",
       "    .dataframe tbody tr th {\n",
       "        vertical-align: top;\n",
       "    }\n",
       "\n",
       "    .dataframe thead th {\n",
       "        text-align: right;\n",
       "    }\n",
       "</style>\n",
       "<table border=\"1\" class=\"dataframe\">\n",
       "  <thead>\n",
       "    <tr style=\"text-align: right;\">\n",
       "      <th></th>\n",
       "      <th>creation</th>\n",
       "      <th>location</th>\n",
       "      <th>followers</th>\n",
       "      <th>retweetcount</th>\n",
       "      <th>text</th>\n",
       "      <th>text_clean</th>\n",
       "    </tr>\n",
       "  </thead>\n",
       "  <tbody>\n",
       "    <tr>\n",
       "      <th>0</th>\n",
       "      <td>2022-09-17 19:45:26+00:00</td>\n",
       "      <td>NaN</td>\n",
       "      <td>66</td>\n",
       "      <td>298</td>\n",
       "      <td>It’s a Bora Purple world. @BTS_twt \\n#GalaxyxB...</td>\n",
       "      <td>it’s a bora purple world. @user galaxyxbts gal...</td>\n",
       "    </tr>\n",
       "    <tr>\n",
       "      <th>3</th>\n",
       "      <td>2022-09-17 18:29:37+00:00</td>\n",
       "      <td>NaN</td>\n",
       "      <td>28</td>\n",
       "      <td>4</td>\n",
       "      <td>Did you know you get up to 4 months free of Yo...</td>\n",
       "      <td>did you know you get up to 4 months free of yo...</td>\n",
       "    </tr>\n",
       "    <tr>\n",
       "      <th>4</th>\n",
       "      <td>2022-09-17 18:28:10+00:00</td>\n",
       "      <td>NaN</td>\n",
       "      <td>28</td>\n",
       "      <td>35</td>\n",
       "      <td>The world's #1 couple. Introducing the world's...</td>\n",
       "      <td>the world's 1 couple. introducing the world's ...</td>\n",
       "    </tr>\n",
       "    <tr>\n",
       "      <th>5</th>\n",
       "      <td>2022-09-17 18:28:01+00:00</td>\n",
       "      <td>NaN</td>\n",
       "      <td>28</td>\n",
       "      <td>15</td>\n",
       "      <td>Don't tell me you dip them in milkshakes 🥤😬 an...</td>\n",
       "      <td>don't tell me you dip them in milkshakes  and ...</td>\n",
       "    </tr>\n",
       "    <tr>\n",
       "      <th>6</th>\n",
       "      <td>2022-09-17 18:19:38+00:00</td>\n",
       "      <td>India</td>\n",
       "      <td>112</td>\n",
       "      <td>2</td>\n",
       "      <td>Never buying Samsung phone again, bought 2 Sam...</td>\n",
       "      <td>never buying samsung phone again, bought 2 sam...</td>\n",
       "    </tr>\n",
       "  </tbody>\n",
       "</table>\n",
       "</div>"
      ],
      "text/plain": [
       "                    creation location  followers  retweetcount  \\\n",
       "0  2022-09-17 19:45:26+00:00      NaN         66           298   \n",
       "3  2022-09-17 18:29:37+00:00      NaN         28             4   \n",
       "4  2022-09-17 18:28:10+00:00      NaN         28            35   \n",
       "5  2022-09-17 18:28:01+00:00      NaN         28            15   \n",
       "6  2022-09-17 18:19:38+00:00    India        112             2   \n",
       "\n",
       "                                                text  \\\n",
       "0  It’s a Bora Purple world. @BTS_twt \\n#GalaxyxB...   \n",
       "3  Did you know you get up to 4 months free of Yo...   \n",
       "4  The world's #1 couple. Introducing the world's...   \n",
       "5  Don't tell me you dip them in milkshakes 🥤😬 an...   \n",
       "6  Never buying Samsung phone again, bought 2 Sam...   \n",
       "\n",
       "                                          text_clean  \n",
       "0  it’s a bora purple world. @user galaxyxbts gal...  \n",
       "3  did you know you get up to 4 months free of yo...  \n",
       "4  the world's 1 couple. introducing the world's ...  \n",
       "5  don't tell me you dip them in milkshakes  and ...  \n",
       "6  never buying samsung phone again, bought 2 sam...  "
      ]
     },
     "execution_count": 264,
     "metadata": {},
     "output_type": "execute_result"
    }
   ],
   "source": [
    "df_samsung.head()"
   ]
  },
  {
   "cell_type": "code",
   "execution_count": 265,
   "id": "9dc73645-f0c4-4195-bfdc-c0abbe965c20",
   "metadata": {},
   "outputs": [],
   "source": [
    "df_samsung['text_clean'] = df_samsung['text'].apply(hashtags)"
   ]
  },
  {
   "cell_type": "code",
   "execution_count": 266,
   "id": "39544a39-c926-4123-912e-3f65e541b4a3",
   "metadata": {},
   "outputs": [],
   "source": [
    "df_samsung['text_clean'] = df_samsung['text_clean'].apply(saltos_linea)"
   ]
  },
  {
   "cell_type": "code",
   "execution_count": 267,
   "id": "febf9bea-df11-4c37-a756-e36d97db596b",
   "metadata": {},
   "outputs": [],
   "source": [
    "df_samsung['text_clean'] = df_samsung['text_clean'].apply(usuario_url)"
   ]
  },
  {
   "cell_type": "code",
   "execution_count": 268,
   "id": "865983c2-596f-4d38-aabc-dedecfd98d2a",
   "metadata": {},
   "outputs": [],
   "source": [
    "df_samsung['text_clean'] = df_samsung['text_clean'].apply(clean)"
   ]
  },
  {
   "cell_type": "code",
   "execution_count": 271,
   "id": "881d5326-c453-4300-b2eb-d1c6ec794f11",
   "metadata": {},
   "outputs": [],
   "source": [
    "df_samsung['sent_score'] = df_samsung['text_clean'].apply(tweet_proc)"
   ]
  },
  {
   "cell_type": "code",
   "execution_count": 278,
   "id": "90ac3b63-6211-4d41-8b2d-ffecc1e25bbb",
   "metadata": {},
   "outputs": [],
   "source": [
    "df_samsung['neg_score'] = df_samsung['sent_score'].apply(neg_score)\n",
    "\n",
    "df_samsung['neu_score'] = df_samsung['sent_score'].apply(neu_score)\n",
    "\n",
    "df_samsung['pos_score'] = df_samsung['sent_score'].apply(pos_score)\n",
    "\n",
    "df_samsung['target'] = np.where(df_samsung['pos_score'] > 0.65, 1,\n",
    "                              np.where(df_samsung['neg_score'] > 0.65, -1,\n",
    "                                       0))"
   ]
  },
  {
   "cell_type": "code",
   "execution_count": 279,
   "id": "ef942e3e-6951-4643-be47-3bd028d120cd",
   "metadata": {},
   "outputs": [],
   "source": [
    "df_samsung['text_stop_words_tokenize'] = df_samsung['text_clean'].apply(stop_words_tokenize)\n",
    "\n",
    "\n",
    "df_samsung['text_stop_words_tokenize_stem'] = df_samsung['text_stop_words_tokenize'].apply(stem)"
   ]
  },
  {
   "cell_type": "code",
   "execution_count": null,
   "id": "1ee222a3-daaa-49ec-8db2-31db3a63a20d",
   "metadata": {},
   "outputs": [],
   "source": [
    "# Filtro mi DF con tweets negativos:\n",
    "df_samsung_neg = df_samsung[df_samsung['target'] == -1]\n",
    "\n",
    "# Hago una lista con las palabras tokenizadas y lemmatizadas de los tweets negativos:\n",
    "negative_tweets_list_samsung = []\n",
    "for l in df_samsung_neg['text_stop_words_tokenize_stem']:\n",
    "    extra_words = ['phone','iphones','apple','iphone','doesn','doesnt','bring','galaxy','samsung']\n",
    "    for w in l:\n",
    "        if w not in extra_words:\n",
    "            negative_tweets_list_samsung.append(w)\n",
    "\n",
    "# Paso mi lista de palabras negativas a un string con fines de visualización:\n",
    "words_negative_tweets_samsung = str(negative_tweets_list_samsung)\n",
    "\n",
    "# Importo la paleta de colores que usaré para la nube:\n",
    "from palettable.matplotlib import Inferno_6\n",
    "\n",
    "# Defino parámetros de mi nube negativa:\n",
    "stylecloud.gen_stylecloud(text = words_negative_tweets_samsung,\n",
    "                          size = 1500,\n",
    "                          icon_name = \"fab fa-android\",\n",
    "                          colors = '#FF5722', \n",
    "                          # palette = 'scientific.sequential.LaJolla_13',\n",
    "                          background_color=\"#FAF9F0\",\n",
    "                          output_name = 'negativewordssamsung.jpg')"
   ]
  },
  {
   "cell_type": "code",
   "execution_count": null,
   "id": "f7513b2b-a465-4f0a-9c81-c26a4300ee80",
   "metadata": {},
   "outputs": [],
   "source": [
    "# Filtro mi DF con tweets negativos:\n",
    "df_samsung_pos = df_samsung[df_samsung['target'] == 1]\n",
    "\n",
    "# Hago una lista con las palabras tokenizadas y lemmatizadas de los tweets negativos:\n",
    "positive_tweets_list_samsung = []\n",
    "for l in df_samsung_pos['text_stop_words_tokenize_stem']:\n",
    "    extra_words = ['phone','iphones','apple','iphone','doesn','doesnt','bring','galaxy','samsung']\n",
    "    for w in l:\n",
    "        if w not in extra_words:\n",
    "            positive_tweets_list_samsung.append(w)\n",
    "\n",
    "# Paso mi lista de palabras negativas a un string con fines de visualización:\n",
    "words_positive_tweets_samsung = str(positive_tweets_list_samsung)\n",
    "\n",
    "# Importo la paleta de colores que usaré para la nube:\n",
    "from palettable.matplotlib import Inferno_13\n",
    "\n",
    "# Defino parámetros de mi nube positiva:\n",
    "stylecloud.gen_stylecloud(text = words_positive_tweets_samsung,\n",
    "                          size = 1500,\n",
    "                          icon_name = \"fab fa-android\",\n",
    "                          # palette = 'scientific.sequential.Acton_20', \n",
    "                          colors = '#121435',\n",
    "                          background_color=\"#FAF9F0\",\n",
    "                          output_name = 'positivewordssamsung.jpg')"
   ]
  }
 ],
 "metadata": {
  "kernelspec": {
   "display_name": "Python 3 (ipykernel)",
   "language": "python",
   "name": "python3"
  },
  "language_info": {
   "codemirror_mode": {
    "name": "ipython",
    "version": 3
   },
   "file_extension": ".py",
   "mimetype": "text/x-python",
   "name": "python",
   "nbconvert_exporter": "python",
   "pygments_lexer": "ipython3",
   "version": "3.9.7"
  }
 },
 "nbformat": 4,
 "nbformat_minor": 5
}
